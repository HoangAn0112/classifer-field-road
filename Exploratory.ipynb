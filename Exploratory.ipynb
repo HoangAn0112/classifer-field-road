{
 "cells": [
  {
   "cell_type": "code",
   "execution_count": 27,
   "metadata": {},
   "outputs": [],
   "source": [
    "import os\n",
    "#import cv2\n",
    "import pandas as pd\n"
   ]
  },
  {
   "attachments": {},
   "cell_type": "markdown",
   "metadata": {},
   "source": [
    "## 1. Count the number of images of each folder"
   ]
  },
  {
   "cell_type": "code",
   "execution_count": 19,
   "metadata": {},
   "outputs": [
    {
     "name": "stdout",
     "output_type": "stream",
     "text": [
      "fields folder : 45 images\n",
      "roads folder : 108 images\n",
      "test_images folder : 10 images\n"
     ]
    }
   ],
   "source": [
    "# count images\n",
    "cwd = os.getcwd()\n",
    "path_data = os.path.join(cwd, 'dataset')\n",
    "\n",
    "# Iterate directory and count images amount\n",
    "for path in os.listdir(path_data):\n",
    "    count = 0\n",
    "    for r, d, files in os.walk(os.path.join(path_data, path)):\n",
    "        count += len(files)\n",
    "        print(path, \"folder :\", count, \"images\")"
   ]
  },
  {
   "attachments": {},
   "cell_type": "markdown",
   "metadata": {},
   "source": [
    "### 1.1. Check image porperties\n",
    "BE CAREFUL: both jpg and jpeg files exit"
   ]
  },
  {
   "cell_type": "code",
   "execution_count": 40,
   "metadata": {},
   "outputs": [
    {
     "data": {
      "text/plain": [
       "['1.jpeg',\n",
       " '10.jpeg',\n",
       " '2.jpeg',\n",
       " '3.jpeg',\n",
       " '4.jpeg',\n",
       " '5.jpeg',\n",
       " '6.jpeg',\n",
       " '7.jpeg',\n",
       " '8.jpeg',\n",
       " '9.jpeg']"
      ]
     },
     "execution_count": 40,
     "metadata": {},
     "output_type": "execute_result"
    }
   ],
   "source": [
    "# Print out the contents of one folder inside of the data folder\n",
    "os.listdir(os.path.join(path_data,\"test_images\")) \n",
    "# BE CAREFUL: both jpg and jpeg files, test only jpeg"
   ]
  }
 ],
 "metadata": {
  "kernelspec": {
   "display_name": "scrap",
   "language": "python",
   "name": "python3"
  },
  "language_info": {
   "codemirror_mode": {
    "name": "ipython",
    "version": 3
   },
   "file_extension": ".py",
   "mimetype": "text/x-python",
   "name": "python",
   "nbconvert_exporter": "python",
   "pygments_lexer": "ipython3",
   "version": "3.10.0"
  },
  "orig_nbformat": 4
 },
 "nbformat": 4,
 "nbformat_minor": 2
}
